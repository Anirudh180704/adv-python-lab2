{
 "cells": [
  {
   "cell_type": "code",
   "execution_count": 4,
   "id": "56efee15-61a8-46c4-8b87-8451cb4e3d4c",
   "metadata": {},
   "outputs": [
    {
     "name": "stdin",
     "output_type": "stream",
     "text": [
      "Enter a string:  i am from england\n"
     ]
    },
    {
     "name": "stdout",
     "output_type": "stream",
     "text": [
      "Original string: 'i am from england', id: 2208116953968\n",
      "Modified string: 'i am from england world', id: 2208058891952\n",
      "\n",
      "Since the id changed after modification, this proves strings are immutable in Python.\n"
     ]
    }
   ],
   "source": [
    "def main():\n",
    "    # Get user input\n",
    "    s = input(\"Enter a string: \")\n",
    "\n",
    "    # Print original string and id\n",
    "    print(f\"Original string: '{s}', id: {id(s)}\")\n",
    "\n",
    "    # Modify string by concatenation (creates a new string)\n",
    "    s = s + \" world\"\n",
    "\n",
    "    # Print modified string and id\n",
    "    print(f\"Modified string: '{s}', id: {id(s)}\")\n",
    "\n",
    "    # Explanation\n",
    "    print(\"\\nSince the id changed after modification, this proves strings are immutable in Python.\")\n",
    "\n",
    "if __name__ == \"__main__\":\n",
    "    main()\n"
   ]
  },
  {
   "cell_type": "code",
   "execution_count": null,
   "id": "9e4e909c-2c37-44a0-8a60-e15aee78f82f",
   "metadata": {},
   "outputs": [],
   "source": []
  }
 ],
 "metadata": {
  "kernelspec": {
   "display_name": "Python [conda env:base] *",
   "language": "python",
   "name": "conda-base-py"
  },
  "language_info": {
   "codemirror_mode": {
    "name": "ipython",
    "version": 3
   },
   "file_extension": ".py",
   "mimetype": "text/x-python",
   "name": "python",
   "nbconvert_exporter": "python",
   "pygments_lexer": "ipython3",
   "version": "3.12.7"
  }
 },
 "nbformat": 4,
 "nbformat_minor": 5
}
