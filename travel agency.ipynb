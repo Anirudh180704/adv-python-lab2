{
 "cells": [
  {
   "cell_type": "code",
   "execution_count": 1,
   "id": "3a331971-09dc-484a-a6fc-24871b451c10",
   "metadata": {},
   "outputs": [
    {
     "name": "stdout",
     "output_type": "stream",
     "text": [
      "🧳 Welcome to Wanderlust Travel Agency 🧭\n"
     ]
    }
   ],
   "source": [
    "print(\"🧳 Welcome to Wanderlust Travel Agency 🧭\")"
   ]
  },
  {
   "cell_type": "code",
   "execution_count": 2,
   "id": "afc28c28-60b7-4e2a-a53b-0cd1c64d374e",
   "metadata": {},
   "outputs": [],
   "source": [
    "destinations = []\n"
   ]
  },
  {
   "cell_type": "code",
   "execution_count": 3,
   "id": "e1945613-3577-4fbf-8a6d-a43d4efc0812",
   "metadata": {},
   "outputs": [
    {
     "name": "stdin",
     "output_type": "stream",
     "text": [
      "How many destinations do you want to enter?  5\n"
     ]
    }
   ],
   "source": [
    "n = int(input(\"How many destinations do you want to enter? \"))"
   ]
  },
  {
   "cell_type": "code",
   "execution_count": 4,
   "id": "2d560ec4-5cbc-4f0e-a41e-a70ecd6223e5",
   "metadata": {},
   "outputs": [
    {
     "name": "stdin",
     "output_type": "stream",
     "text": [
      "Enter destination #1:  usa\n",
      "Enter destination #2:  paris\n",
      "Enter destination #3:  cap town\n",
      "Enter destination #4:  wales\n",
      "Enter destination #5:  manchester\n"
     ]
    },
    {
     "name": "stdout",
     "output_type": "stream",
     "text": [
      "\n",
      "Your travel wishlist:\n",
      "['usa', 'paris', 'cap town', 'wales', 'manchester']\n"
     ]
    }
   ],
   "source": [
    "for i in range(n):\n",
    "    place = input(f\"Enter destination #{i+1}: \")\n",
    "    destinations.append(place)\n",
    "\n",
    "print(\"\\nYour travel wishlist:\")\n",
    "print(destinations)"
   ]
  },
  {
   "cell_type": "code",
   "execution_count": 5,
   "id": "a2a742f1-fb64-4125-a981-9021681fd153",
   "metadata": {},
   "outputs": [
    {
     "name": "stdin",
     "output_type": "stream",
     "text": [
      "\n",
      "Enter a place to check how frequently you're flying there:  manchester\n"
     ]
    },
    {
     "name": "stdout",
     "output_type": "stream",
     "text": [
      "You have entered 'manchester' 1 time(s).\n"
     ]
    }
   ],
   "source": [
    "check_place = input(\"\\nEnter a place to check how frequently you're flying there: \")\n",
    "frequency = destinations.count(check_place)\n",
    "print(f\"You have entered '{check_place}' {frequency} time(s).\")"
   ]
  },
  {
   "cell_type": "code",
   "execution_count": 7,
   "id": "7bce4b84-4100-431b-9277-fabf5f3e2f61",
   "metadata": {},
   "outputs": [
    {
     "name": "stdin",
     "output_type": "stream",
     "text": [
      "\n",
      "Enter the index where you want to insert a new destination:  2\n",
      "Enter the new destination:  new york\n"
     ]
    },
    {
     "name": "stdout",
     "output_type": "stream",
     "text": [
      "\n",
      "Updated destinations list after insertion:\n",
      "['usa', 'paris', 'new york', 'cap town', 'wales', 'manchester']\n"
     ]
    }
   ],
   "source": [
    "index = int(input(\"\\nEnter the index where you want to insert a new destination: \"))\n",
    "new_place = input(\"Enter the new destination: \")\n",
    "destinations.insert(index, new_place)\n",
    "print(\"\\nUpdated destinations list after insertion:\")\n",
    "print(destinations)"
   ]
  },
  {
   "cell_type": "code",
   "execution_count": 8,
   "id": "5cfe9d1c-d2c9-46ac-a16a-3bd0240fa489",
   "metadata": {},
   "outputs": [
    {
     "name": "stdin",
     "output_type": "stream",
     "text": [
      "\n",
      "Enter a destination to remove from your list:  cap town\n"
     ]
    },
    {
     "name": "stdout",
     "output_type": "stream",
     "text": [
      "'cap town' removed successfully.\n"
     ]
    }
   ],
   "source": [
    "remove_place = input(\"\\nEnter a destination to remove from your list: \")\n",
    "if remove_place in destinations:\n",
    "    destinations.remove(remove_place)\n",
    "    print(f\"'{remove_place}' removed successfully.\")\n",
    "else:\n",
    "    print(f\"'{remove_place}' is not in your list.\")\n"
   ]
  },
  {
   "cell_type": "code",
   "execution_count": 9,
   "id": "b9aa5249-5a11-4121-96eb-7573fd48d6a7",
   "metadata": {},
   "outputs": [
    {
     "name": "stdout",
     "output_type": "stream",
     "text": [
      "\n",
      "Sorted destinations list:\n",
      "['manchester', 'new york', 'paris', 'usa', 'wales']\n"
     ]
    }
   ],
   "source": [
    "destinations.sort()\n",
    "print(\"\\nSorted destinations list:\")\n",
    "print(destinations)"
   ]
  },
  {
   "cell_type": "code",
   "execution_count": 10,
   "id": "9e262f42-7408-4d7e-9e69-92df45bdff77",
   "metadata": {},
   "outputs": [
    {
     "name": "stdout",
     "output_type": "stream",
     "text": [
      "\n",
      "Reversed destinations list:\n",
      "['wales', 'usa', 'paris', 'new york', 'manchester']\n"
     ]
    }
   ],
   "source": [
    "destinations.reverse()\n",
    "print(\"\\nReversed destinations list:\")\n",
    "print(destinations)"
   ]
  },
  {
   "cell_type": "code",
   "execution_count": 11,
   "id": "28c29bac-8ebe-4dc6-8e35-8ad21237c783",
   "metadata": {},
   "outputs": [
    {
     "name": "stdout",
     "output_type": "stream",
     "text": [
      "\n",
      "Copied destinations list:\n",
      "['wales', 'usa', 'paris', 'new york', 'manchester']\n"
     ]
    }
   ],
   "source": [
    "copied_list = destinations.copy()\n",
    "print(\"\\nCopied destinations list:\")\n",
    "print(copied_list)"
   ]
  },
  {
   "cell_type": "code",
   "execution_count": 12,
   "id": "11e7a2fd-29e1-4845-941e-32d0793636b7",
   "metadata": {},
   "outputs": [
    {
     "name": "stdin",
     "output_type": "stream",
     "text": [
      "\n",
      "Enter a destination to find its index:  manchester\n"
     ]
    },
    {
     "name": "stdout",
     "output_type": "stream",
     "text": [
      "The destination 'manchester' is at index 4.\n"
     ]
    }
   ],
   "source": [
    "search_place = input(\"\\nEnter a destination to find its index: \")\n",
    "if search_place in destinations:\n",
    "    idx = destinations.index(search_place)\n",
    "    print(f\"The destination '{search_place}' is at index {idx}.\")\n",
    "else:\n",
    "    print(f\"The destination '{search_place}' is not in the list.\")"
   ]
  },
  {
   "cell_type": "code",
   "execution_count": 13,
   "id": "54dd4ab7-fdec-4294-b239-6ce93acb883f",
   "metadata": {},
   "outputs": [
    {
     "name": "stdin",
     "output_type": "stream",
     "text": [
      "\n",
      "How many more destinations would you like to add (extend)?  2\n",
      "Enter extra destination #1:  himachal\n",
      "Enter extra destination #2:  assam\n"
     ]
    },
    {
     "name": "stdout",
     "output_type": "stream",
     "text": [
      "\n",
      "List after extending with more destinations:\n",
      "['wales', 'usa', 'paris', 'new york', 'manchester', 'himachal', 'assam']\n"
     ]
    }
   ],
   "source": [
    "m = int(input(\"\\nHow many more destinations would you like to add (extend)? \"))\n",
    "extra = []\n",
    "for i in range(m):\n",
    "    extra.append(input(f\"Enter extra destination #{i+1}: \"))\n",
    "\n",
    "destinations.extend(extra)\n",
    "print(\"\\nList after extending with more destinations:\")\n",
    "print(destinations)"
   ]
  },
  {
   "cell_type": "code",
   "execution_count": 14,
   "id": "544b4107-bc97-4a55-9212-2d012e9e368a",
   "metadata": {},
   "outputs": [
    {
     "name": "stdin",
     "output_type": "stream",
     "text": [
      "\n",
      "Do you want to clear your list? (yes/no):  no\n"
     ]
    },
    {
     "name": "stdout",
     "output_type": "stream",
     "text": [
      "List was not cleared. Final destinations list:\n",
      "['wales', 'usa', 'paris', 'new york', 'manchester', 'himachal', 'assam']\n"
     ]
    }
   ],
   "source": [
    "clear_choice = input(\"\\nDo you want to clear your list? (yes/no): \").strip().lower()\n",
    "if clear_choice == \"yes\":\n",
    "    destinations.clear()\n",
    "    print(\"Your destination list is now empty.\")\n",
    "else:\n",
    "    print(\"List was not cleared. Final destinations list:\")\n",
    "    print(destinations)"
   ]
  },
  {
   "cell_type": "code",
   "execution_count": 15,
   "id": "4e0d3821-3884-4f39-9339-75a94dff2de7",
   "metadata": {},
   "outputs": [
    {
     "name": "stdin",
     "output_type": "stream",
     "text": [
      "\n",
      "🗑️ Enter a destination to remove:  himachal\n"
     ]
    },
    {
     "name": "stdout",
     "output_type": "stream",
     "text": [
      "'himachal' removed successfully.\n"
     ]
    }
   ],
   "source": [
    "remove_place = input(\"\\n🗑️ Enter a destination to remove: \")\n",
    "if remove_place in destinations:\n",
    "    destinations.remove(remove_place)\n",
    "    print(f\"'{remove_place}' removed successfully.\")\n",
    "else:\n",
    "    print(f\"'{remove_place}' is not in the list.\")"
   ]
  },
  {
   "cell_type": "code",
   "execution_count": 18,
   "id": "eecf78d9-0856-44ea-9c5f-3fcb516a25e6",
   "metadata": {},
   "outputs": [
    {
     "name": "stdout",
     "output_type": "stream",
     "text": [
      "\n",
      "📑 Sorted destinations list:\n",
      "['assam', 'manchester', 'new york', 'paris', 'usa', 'wales']\n"
     ]
    }
   ],
   "source": [
    "destinations.sort()\n",
    "print(\"\\n📑 Sorted destinations list:\")\n",
    "print(destinations)"
   ]
  },
  {
   "cell_type": "code",
   "execution_count": 19,
   "id": "5dd486e0-75d6-47c5-9555-33a560defd0a",
   "metadata": {},
   "outputs": [
    {
     "name": "stdout",
     "output_type": "stream",
     "text": [
      "\n",
      "🔃 Reversed destinations list:\n",
      "['wales', 'usa', 'paris', 'new york', 'manchester', 'assam']\n"
     ]
    }
   ],
   "source": [
    "destinations.reverse()\n",
    "print(\"\\n🔃 Reversed destinations list:\")\n",
    "print(destinations)"
   ]
  },
  {
   "cell_type": "code",
   "execution_count": 20,
   "id": "0f7dbe83-589f-4161-a8d7-8d46c09edfd8",
   "metadata": {},
   "outputs": [
    {
     "name": "stdout",
     "output_type": "stream",
     "text": [
      "\n",
      "📄 Copied list:\n",
      "['wales', 'usa', 'paris', 'new york', 'manchester', 'assam']\n"
     ]
    }
   ],
   "source": [
    "copied_list = destinations.copy()\n",
    "print(\"\\n📄 Copied list:\")\n",
    "print(copied_list)"
   ]
  },
  {
   "cell_type": "code",
   "execution_count": 21,
   "id": "6e502fb2-66a1-40e1-9ac4-697cc272046b",
   "metadata": {},
   "outputs": [
    {
     "name": "stdin",
     "output_type": "stream",
     "text": [
      "\n",
      "🔎 Enter a destination to find its index:  paris\n"
     ]
    },
    {
     "name": "stdout",
     "output_type": "stream",
     "text": [
      "'paris' found at index 2.\n"
     ]
    }
   ],
   "source": [
    "search_place = input(\"\\n🔎 Enter a destination to find its index: \")\n",
    "if search_place in destinations:\n",
    "    idx = destinations.index(search_place)\n",
    "    print(f\"'{search_place}' found at index {idx}.\")\n",
    "else:\n",
    "    print(f\"'{search_place}' is not in the list.\")"
   ]
  },
  {
   "cell_type": "code",
   "execution_count": 22,
   "id": "9bc83a8f-9bce-4b08-85cd-71631e161b0b",
   "metadata": {},
   "outputs": [
    {
     "name": "stdin",
     "output_type": "stream",
     "text": [
      "\n",
      "🎯 Enter index to pop (remove and show) destination:  1\n"
     ]
    },
    {
     "name": "stdout",
     "output_type": "stream",
     "text": [
      "'usa' has been popped from the list.\n"
     ]
    }
   ],
   "source": [
    "if destinations:\n",
    "    pop_index = int(input(\"\\n🎯 Enter index to pop (remove and show) destination: \"))\n",
    "    if 0 <= pop_index < len(destinations):\n",
    "        popped = destinations.pop(pop_index)\n",
    "        print(f\"'{popped}' has been popped from the list.\")\n",
    "    else:\n",
    "        print(\"Invalid index for popping.\")"
   ]
  },
  {
   "cell_type": "code",
   "execution_count": 23,
   "id": "bbe65730-7fe3-4564-b126-476e791d4550",
   "metadata": {},
   "outputs": [
    {
     "name": "stdout",
     "output_type": "stream",
     "text": [
      "\n",
      "📦 Total destinations in list: 5\n"
     ]
    }
   ],
   "source": [
    "print(f\"\\n📦 Total destinations in list: {len(destinations)}\")"
   ]
  },
  {
   "cell_type": "code",
   "execution_count": 24,
   "id": "190c6bec-b3aa-49f4-949c-2c7b316abdf6",
   "metadata": {},
   "outputs": [
    {
     "name": "stdout",
     "output_type": "stream",
     "text": [
      "\n",
      "🏆 Top 3 destinations in your list (if available):\n",
      "['wales', 'paris', 'new york']\n"
     ]
    }
   ],
   "source": [
    "print(\"\\n🏆 Top 3 destinations in your list (if available):\")\n",
    "print(destinations[:3])\n"
   ]
  },
  {
   "cell_type": "code",
   "execution_count": 25,
   "id": "3296cf86-c2ad-42ae-816b-4d2d2b405018",
   "metadata": {},
   "outputs": [
    {
     "name": "stdout",
     "output_type": "stream",
     "text": [
      "\n",
      "🌍 Unique destinations (duplicates removed):\n",
      "['new york', 'wales', 'paris', 'manchester', 'assam']\n"
     ]
    }
   ],
   "source": [
    "unique_destinations = list(set(destinations))\n",
    "print(\"\\n🌍 Unique destinations (duplicates removed):\")\n",
    "print(unique_destinations)\n"
   ]
  },
  {
   "cell_type": "code",
   "execution_count": 26,
   "id": "b0a7dd4d-a873-4b31-89f0-2ee8253793c3",
   "metadata": {},
   "outputs": [
    {
     "name": "stdin",
     "output_type": "stream",
     "text": [
      "\n",
      "🧹 Do you want to clear your list? (yes/no):  no\n"
     ]
    },
    {
     "name": "stdout",
     "output_type": "stream",
     "text": [
      "📌 Final destination list:\n",
      "['wales', 'paris', 'new york', 'manchester', 'assam']\n"
     ]
    }
   ],
   "source": [
    "clear_choice = input(\"\\n🧹 Do you want to clear your list? (yes/no): \").strip().lower()\n",
    "if clear_choice == \"yes\":\n",
    "    destinations.clear()\n",
    "    print(\"🗑️ Your destination list is now empty.\")\n",
    "else:\n",
    "    print(\"📌 Final destination list:\")\n",
    "    print(destinations)"
   ]
  },
  {
   "cell_type": "code",
   "execution_count": 27,
   "id": "b58b8684-221e-4e82-8e69-31f68bdcf752",
   "metadata": {},
   "outputs": [],
   "source": [
    "from tabulate import tabulate"
   ]
  },
  {
   "cell_type": "code",
   "execution_count": 28,
   "id": "a957eab4-7574-4143-9ff2-1fde89642e76",
   "metadata": {},
   "outputs": [],
   "source": [
    "destinations = ['wales', 'paris', 'new york', 'manchester', 'assam']"
   ]
  },
  {
   "cell_type": "code",
   "execution_count": 29,
   "id": "f271d2f3-ec6f-40b5-af4f-327117447350",
   "metadata": {},
   "outputs": [],
   "source": [
    "destination_prices = {\n",
    "    'wales': 75000,\n",
    "    'paris': 120000,\n",
    "    'new york': 150000,\n",
    "    'manchester': 80000,\n",
    "    'assam': 25000\n",
    "}\n",
    "\n"
   ]
  },
  {
   "cell_type": "code",
   "execution_count": 30,
   "id": "212bd4fc-66c9-4f97-9d89-8ea70f2dcc0a",
   "metadata": {},
   "outputs": [],
   "source": [
    "table_data = []\n",
    "for place in destinations:\n",
    "    price = destination_prices.get(place, \"Not Available\")\n",
    "    table_data.append([place.title(), f\"₹ {price:,}\"])\n"
   ]
  },
  {
   "cell_type": "code",
   "execution_count": 31,
   "id": "ad89d0e7-7b91-4418-a697-882d9ecf5bff",
   "metadata": {},
   "outputs": [
    {
     "name": "stdout",
     "output_type": "stream",
     "text": [
      "\n",
      "🌍 Travel Destination Pricing Table:\n",
      "\n",
      "╒═══════════════╤═══════════╕\n",
      "│ Destination   │ Price     │\n",
      "╞═══════════════╪═══════════╡\n",
      "│ Wales         │ ₹ 75,000  │\n",
      "├───────────────┼───────────┤\n",
      "│ Paris         │ ₹ 120,000 │\n",
      "├───────────────┼───────────┤\n",
      "│ New York      │ ₹ 150,000 │\n",
      "├───────────────┼───────────┤\n",
      "│ Manchester    │ ₹ 80,000  │\n",
      "├───────────────┼───────────┤\n",
      "│ Assam         │ ₹ 25,000  │\n",
      "╘═══════════════╧═══════════╛\n"
     ]
    }
   ],
   "source": [
    "print(\"\\n🌍 Travel Destination Pricing Table:\\n\")\n",
    "print(tabulate(table_data, headers=[\"Destination\", \"Price\"], tablefmt=\"fancy_grid\"))"
   ]
  },
  {
   "cell_type": "code",
   "execution_count": 32,
   "id": "0f43124c-3f36-4b2b-8647-0dbb511cf84b",
   "metadata": {},
   "outputs": [],
   "source": [
    "destination_data = {\n",
    "    'wales':      {'price': 75000,   'days': 6},\n",
    "    'paris':      {'price': 120000,  'days': 7},\n",
    "    'new york':   {'price': 150000,  'days': 10},\n",
    "    'manchester': {'price': 80000,   'days': 5},\n",
    "    'assam':      {'price': 25000,   'days': 4}\n",
    "}"
   ]
  },
  {
   "cell_type": "code",
   "execution_count": 33,
   "id": "e17e9d66-8620-4e51-9745-ddc94ef45825",
   "metadata": {},
   "outputs": [],
   "source": [
    "INR_TO_USD = 0.012"
   ]
  },
  {
   "cell_type": "code",
   "execution_count": 34,
   "id": "4dc566b4-d978-4623-9c9f-ce49e2daac31",
   "metadata": {},
   "outputs": [
    {
     "name": "stdout",
     "output_type": "stream",
     "text": [
      "🧳 Welcome to Wanderlust Travel Agency 🧭\n"
     ]
    },
    {
     "name": "stdin",
     "output_type": "stream",
     "text": [
      "Enter how many destinations you'd like to check:  5\n",
      "Enter destination #1:  Wales  \n",
      "Enter destination #2:  Paris  \n",
      "Enter destination #3:   New York  \n",
      "Enter destination #4:  Manchester\n",
      "Enter destination #5:  Assam    \n"
     ]
    }
   ],
   "source": [
    "print(\"🧳 Welcome to Wanderlust Travel Agency 🧭\")\n",
    "user_list = []\n",
    "n = int(input(\"Enter how many destinations you'd like to check: \"))\n",
    "for i in range(n):\n",
    "    dest = input(f\"Enter destination #{i+1}: \").strip().lower()\n",
    "    user_list.append(dest)"
   ]
  },
  {
   "cell_type": "code",
   "execution_count": 35,
   "id": "73a663ee-495a-467f-ae0c-7a10c66cf97d",
   "metadata": {},
   "outputs": [],
   "source": [
    "table = []\n",
    "for place in user_list:\n",
    "    data = destination_data.get(place)\n",
    "    if data:\n",
    "        price_inr = data['price']\n",
    "        price_usd = round(price_inr * INR_TO_USD, 2)\n",
    "        days = data['days']\n",
    "        table.append([\n",
    "            place.title(),\n",
    "            f\"₹ {price_inr:,}\",\n",
    "            f\"{days} days\",\n",
    "            f\"$ {price_usd:,}\"\n",
    "        ])\n",
    "    else:\n",
    "        table.append([\n",
    "            place.title(),\n",
    "            \"Not Available\",\n",
    "            \"N/A\",\n",
    "            \"N/A\"])"
   ]
  },
  {
   "cell_type": "code",
   "execution_count": 36,
   "id": "95013d34-28fe-43de-9b15-67baf121abe3",
   "metadata": {},
   "outputs": [
    {
     "name": "stdout",
     "output_type": "stream",
     "text": [
      "\n",
      "🌍 Travel Package Summary:\n",
      "\n",
      "╒═══════════════╤═══════════════╤═════════════════╤═══════════════╕\n",
      "│ Destination   │ Price (INR)   │ Trip Duration   │ Price (USD)   │\n",
      "╞═══════════════╪═══════════════╪═════════════════╪═══════════════╡\n",
      "│ Wales         │ ₹ 75,000      │ 6 days          │ $ 900.0       │\n",
      "├───────────────┼───────────────┼─────────────────┼───────────────┤\n",
      "│ Paris         │ ₹ 120,000     │ 7 days          │ $ 1,440.0     │\n",
      "├───────────────┼───────────────┼─────────────────┼───────────────┤\n",
      "│ New York      │ ₹ 150,000     │ 10 days         │ $ 1,800.0     │\n",
      "├───────────────┼───────────────┼─────────────────┼───────────────┤\n",
      "│ Manchester    │ ₹ 80,000      │ 5 days          │ $ 960.0       │\n",
      "├───────────────┼───────────────┼─────────────────┼───────────────┤\n",
      "│ Assam         │ ₹ 25,000      │ 4 days          │ $ 300.0       │\n",
      "╘═══════════════╧═══════════════╧═════════════════╧═══════════════╛\n"
     ]
    }
   ],
   "source": [
    "print(\"\\n🌍 Travel Package Summary:\\n\")\n",
    "print(tabulate(\n",
    "    table,\n",
    "    headers=[\"Destination\", \"Price (INR)\", \"Trip Duration\", \"Price (USD)\"],\n",
    "    tablefmt=\"fancy_grid\"\n",
    "))"
   ]
  },
  {
   "cell_type": "code",
   "execution_count": 37,
   "id": "df6ef5d2-604b-4ca7-8fa7-253ee384efe1",
   "metadata": {},
   "outputs": [
    {
     "name": "stdout",
     "output_type": "stream",
     "text": [
      "THANK YOU!\n"
     ]
    }
   ],
   "source": [
    "print(\"THANK YOU!\")"
   ]
  }
 ],
 "metadata": {
  "kernelspec": {
   "display_name": "Python 3 (ipykernel)",
   "language": "python",
   "name": "python3"
  },
  "language_info": {
   "codemirror_mode": {
    "name": "ipython",
    "version": 3
   },
   "file_extension": ".py",
   "mimetype": "text/x-python",
   "name": "python",
   "nbconvert_exporter": "python",
   "pygments_lexer": "ipython3",
   "version": "3.12.7"
  }
 },
 "nbformat": 4,
 "nbformat_minor": 5
}
