{
 "cells": [
  {
   "cell_type": "code",
   "execution_count": 1,
   "id": "56efee15-61a8-46c4-8b87-8451cb4e3d4c",
   "metadata": {},
   "outputs": [],
   "source": [
    "def main():\n",
    "    # 1. Using Unicode escape sequences (hardcoded example)\n",
    "    char_unicode = \"\\u00B0\"  # degree symbol °\n",
    "    print(\"Method 1 - Unicode escape sequence:\")\n",
    "    print(f\"Temperature: 25{char_unicode}C\\n\")\n"
   ]
  },
  {
   "cell_type": "code",
   "execution_count": 5,
   "id": "9e4e909c-2c37-44a0-8a60-e15aee78f82f",
   "metadata": {},
   "outputs": [
    {
     "name": "stdin",
     "output_type": "stream",
     "text": [
      "Method 2 - Enter a Unicode hex code (e.g. 03A9 for Ω):  03A9\n"
     ]
    }
   ],
   "source": [
    "hex_code = input(\"Method 2 - Enter a Unicode hex code (e.g. 03A9 for Ω): \").strip()"
   ]
  },
  {
   "cell_type": "code",
   "execution_count": 6,
   "id": "fc595936-0d32-4876-bda4-91e1ad9d596c",
   "metadata": {},
   "outputs": [
    {
     "name": "stdout",
     "output_type": "stream",
     "text": [
      "Character for Unicode code point 03A9: Ω\n",
      "\n"
     ]
    }
   ],
   "source": [
    "try:\n",
    "        code_point = int(hex_code, 16)  # convert hex string to integer\n",
    "        char_chr = chr(code_point)\n",
    "        print(f\"Character for Unicode code point {hex_code}: {char_chr}\\n\")\n",
    "except ValueError:\n",
    "        print(\"Invalid hexadecimal Unicode code point entered.\\n\")\n"
   ]
  },
  {
   "cell_type": "code",
   "execution_count": 8,
   "id": "3175c9a5-d1a2-414b-b277-c64c3bf53977",
   "metadata": {},
   "outputs": [
    {
     "name": "stdin",
     "output_type": "stream",
     "text": [
      "Method 3 - Paste or type the special character directly:  😊\n"
     ]
    },
    {
     "name": "stdout",
     "output_type": "stream",
     "text": [
      "You typed: 😊 (id: 2276456258736)\n",
      "\n"
     ]
    }
   ],
   "source": [
    "special_char = input(\"Method 3 - Paste or type the special character directly: \")\n",
    "print(f\"You typed: {special_char} (id: {id(special_char)})\\n\")"
   ]
  },
  {
   "cell_type": "code",
   "execution_count": 11,
   "id": "58fe50c8-97ff-492c-b931-83a7c162a713",
   "metadata": {},
   "outputs": [
    {
     "name": "stdout",
     "output_type": "stream",
     "text": [
      "Bonus - Character from bytes decoding:\n",
      "Bytes b'\\xc3\\xa9' decoded to: é\n"
     ]
    }
   ],
   "source": [
    "special_char_bytes = b'\\xc3\\xa9'  # UTF-8 bytes for 'é'\n",
    "char_from_bytes = special_char_bytes.decode('utf-8')\n",
    "print(\"Bonus - Character from bytes decoding:\")\n",
    "print(f\"Bytes {special_char_bytes} decoded to: {char_from_bytes}\")"
   ]
  },
  {
   "cell_type": "code",
   "execution_count": null,
   "id": "1945d715-8b1d-4c89-af5f-eb7ea31424d0",
   "metadata": {},
   "outputs": [],
   "source": []
  }
 ],
 "metadata": {
  "kernelspec": {
   "display_name": "Python [conda env:base] *",
   "language": "python",
   "name": "conda-base-py"
  },
  "language_info": {
   "codemirror_mode": {
    "name": "ipython",
    "version": 3
   },
   "file_extension": ".py",
   "mimetype": "text/x-python",
   "name": "python",
   "nbconvert_exporter": "python",
   "pygments_lexer": "ipython3",
   "version": "3.12.7"
  }
 },
 "nbformat": 4,
 "nbformat_minor": 5
}
